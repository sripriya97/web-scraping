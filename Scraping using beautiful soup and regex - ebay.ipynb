{
 "cells": [
  {
   "attachments": {},
   "cell_type": "markdown",
   "id": "0b873b4a",
   "metadata": {},
   "source": [
    "### Scrape ebay data and access required information using regex"
   ]
  },
  {
   "cell_type": "markdown",
   "id": "aa37c172",
   "metadata": {},
   "source": [
    "##### Import Libraries"
   ]
  },
  {
   "cell_type": "code",
   "execution_count": 1,
   "id": "055336b9",
   "metadata": {},
   "outputs": [],
   "source": [
    "from bs4 import BeautifulSoup \n",
    "import requests\n",
    "import re\n",
    "import time"
   ]
  },
  {
   "cell_type": "markdown",
   "id": "e2b800a7",
   "metadata": {},
   "source": [
    "##### Load data from webpage"
   ]
  },
  {
   "cell_type": "code",
   "execution_count": null,
   "id": "995483fe",
   "metadata": {},
   "outputs": [],
   "source": [
    "def loadWebsiteData (url):\n",
    "    try:\n",
    "        headers = {'User-Agent': 'Mozilla/5.0'}\n",
    "        page = requests.get(url,headers=headers)\n",
    "        # Create a beautifulsoup object \n",
    "        return BeautifulSoup(page.text, 'lxml')\n",
    "    except :\n",
    "        print(\"Error connecting to website\")"
   ]
  },
  {
   "cell_type": "code",
   "execution_count": null,
   "id": "e4e4bbde",
   "metadata": {},
   "outputs": [],
   "source": [
    "def save (data,fname):\n",
    "    with open(fname, \"w\", encoding=\"utf-8\") as file:\n",
    "        file.write(data)"
   ]
  },
  {
   "attachments": {},
   "cell_type": "markdown",
   "id": "3f85cef2",
   "metadata": {},
   "source": [
    "### Task 1 \n",
    "Code that loads eBay's search result page containing sold \"amazon gift card\". Save the result to file. Name the file \"amazon_gift_card_01.htm\""
   ]
  },
  {
   "cell_type": "code",
   "execution_count": null,
   "id": "ae2decc0",
   "metadata": {},
   "outputs": [],
   "source": [
    "soup = loadWebsiteData(\"https://www.ebay.com/sch/i.html?_nkw=amazon+gift+card&LH_Sold=1\")"
   ]
  },
  {
   "cell_type": "code",
   "execution_count": null,
   "id": "a8d32637",
   "metadata": {},
   "outputs": [],
   "source": [
    "save(str(soup),\"amazon_gift_card_01.htm\")"
   ]
  },
  {
   "attachments": {},
   "cell_type": "markdown",
   "id": "a2bab32e",
   "metadata": {},
   "source": [
    "### Task 2\n",
    "Loop through the search results and download the first 10 pages of search results. Save each of these pages to \"amazon_gift_card_XX.htm\" (XX = page number)."
   ]
  },
  {
   "cell_type": "code",
   "execution_count": null,
   "id": "7e2f1ce8",
   "metadata": {},
   "outputs": [],
   "source": [
    "url = \"https://www.ebay.com/sch/i.html?_nkw=amazon+gift+card&LH_Sold=1&_pgn=\"\n",
    "for i in range(1,11):\n",
    "    pgnum = str(i) if i>=10 else \"0\"+str(i)\n",
    "    save(str(loadWebsiteData(url+str(i))),\"amazon_gift_card_\"+pgnum+\".htm\")\n",
    "    time.sleep(10)"
   ]
  },
  {
   "attachments": {},
   "cell_type": "markdown",
   "id": "9141873d",
   "metadata": {},
   "source": [
    "### Task 3\n",
    "Print to screen the title, price, and shipping price of each item.\n",
    "Using RegEx, identify and print to screen gift cards that sold above face value. Compare a gift card’s value to its price + shipping (free shipping should be treated as 0).  If value < price + shipping, then a gift card sells above face value."
   ]
  },
  {
   "cell_type": "code",
   "execution_count": null,
   "id": "e1adca01",
   "metadata": {},
   "outputs": [],
   "source": [
    "abovefacevaluecount = 0\n",
    "for i in range(1,11):\n",
    "    pgnum = str(i) if i>=10 else \"0\"+str(i)\n",
    "    name = \"amazon_gift_card_\"+pgnum+\".htm\"\n",
    "    ## Part (c)\n",
    "    HTMLFile = open(name, \"rb\")\n",
    "    htmlfiledata = HTMLFile.read()\n",
    "    soup = BeautifulSoup(htmlfiledata, 'lxml')\n",
    "    items = soup.select(\"div.s-item__title--tag\")\n",
    "    actualprice=''\n",
    "    price=''\n",
    "    shipping=''\n",
    "    for t in items:\n",
    "        ## Part (d)\n",
    "        if(t.nextSibling.find('span', attrs={'role': 'heading'})):\n",
    "            title = t.nextSibling.find('span', attrs={'role': 'heading'}).text\n",
    "            title = title.split(\"New Listing\")[-1]\n",
    "            print(\"Title : \"+title)\n",
    "            actualprice = \"0\" if len(re.findall(\"(?:[\\$]{1}[,\\d]+.?\\d*)\",title)) ==0 else re.findall(\"(?:[\\$]{1}[,\\d]+.?\\d*)\",title)[0]\n",
    "        details = t.nextSibling.nextSibling\n",
    "        if(details.find(\"span\",attrs={'class':'POSITIVE'})):\n",
    "            price = details.find(\"span\",attrs={'class':'POSITIVE'}).text\n",
    "            print(\"Price : \"+price)\n",
    "        if(details.find(\"span\",attrs={'class':'s-item__shipping s-item__logisticsCost'})):\n",
    "            shipping = details.find(\"span\",attrs={'class':'s-item__shipping s-item__logisticsCost'}).text\n",
    "            print(\"Shipping : \"+shipping)\n",
    "        actualprice = re.findall(r\"\\d+?.*?\\d*\", actualprice)[0]\n",
    "        price = re.findall(r\"\\d+.*\\d*\",price)[0]\n",
    "        shipping = \"0\" if len(re.findall(r\"\\d+.*\\d*\\W\",shipping)) ==0 else re.findall(r\"\\d+.*\\d*\\W\",shipping)[0] \n",
    "        morethanfacevalue = float(actualprice) < float(price)+float(shipping)\n",
    "        ## Part (e)\n",
    "        if(morethanfacevalue & (float(actualprice)!=0) ):\n",
    "            print(\"This item is sold above face value!\")\n",
    "            print(actualprice +\" < \"+price +\" + \"+shipping)\n",
    "            abovefacevaluecount += 1\n",
    "        else:\n",
    "            print(\"This item is not sold above face value :)\")\n",
    "        print(\"-----------------------------------\")"
   ]
  },
  {
   "attachments": {},
   "cell_type": "markdown",
   "id": "fe94c237",
   "metadata": {},
   "source": [
    "### Task 4 - Sample Webscraping that requires login\n",
    "Write code that automatically logs into the website fctables.com\n",
    "And verifies that you have successfully logged in. Access https://www.fctables.com/tipster/my_bets/ Check whether the word “Wolfsburg” appears on the page."
   ]
  },
  {
   "cell_type": "code",
   "execution_count": 5,
   "id": "9672473e",
   "metadata": {},
   "outputs": [
    {
     "name": "stdout",
     "output_type": "stream",
     "text": [
      "200\n",
      "{'PHPSESSID': '3tuum1consj56cejdsvr4f3u02', 'auth_auto': '57458756d5af92a13a687253089f739e', 'user': '127026', 'user_logged': '1', 'user_login': 'idislikebayernaswell'}\n",
      "True\n"
     ]
    }
   ],
   "source": [
    "try:\n",
    "    URL = \"https://www.fctables.com/user/login/\"\n",
    "    session_requests = requests.session()\n",
    "    res = session_requests.post(URL, \n",
    "                                data = {\n",
    "#                                     \"login_username\" : \"sripriya\",\n",
    "#                                         \"login_password\" : \"bayernmunich\",\n",
    "                                    \"login_username\" : \"idislikebayernaswell\",\n",
    "                                        \"login_password\" : \"gomanchesterunited\",\n",
    "                                        \"user_remeber\":\"1\",\n",
    "                                        \"login_action\" : \"1\"},\n",
    "                                timeout = 15\n",
    "                               )\n",
    "    print(res.status_code)\n",
    "    cookies = session_requests.cookies.get_dict()\n",
    "    print(cookies)\n",
    "    time.sleep(5) \n",
    "    betURL = \"https://www.fctables.com/tipster/my_bets/\"\n",
    "    page2 = session_requests.get(betURL,cookies=cookies)\n",
    "        \n",
    "    doc2 = BeautifulSoup(page2.content, 'html.parser')\n",
    "\n",
    "    ## Search for text \"Wolfsburg\" on bets page\n",
    "    print(bool(doc2.findAll(text = re.compile('Wolfsburg*'))))\n",
    "    \n",
    "except Exception as ex:\n",
    "    print('error: ' + str(ex))"
   ]
  }
 ],
 "metadata": {
  "kernelspec": {
   "display_name": "Python 3 (ipykernel)",
   "language": "python",
   "name": "python3"
  },
  "language_info": {
   "codemirror_mode": {
    "name": "ipython",
    "version": 3
   },
   "file_extension": ".py",
   "mimetype": "text/x-python",
   "name": "python",
   "nbconvert_exporter": "python",
   "pygments_lexer": "ipython3",
   "version": "3.9.13"
  }
 },
 "nbformat": 4,
 "nbformat_minor": 5
}
