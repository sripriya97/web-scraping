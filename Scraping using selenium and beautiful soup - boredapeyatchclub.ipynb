{
 "cells": [
  {
   "attachments": {},
   "cell_type": "markdown",
   "id": "a1abc3ad",
   "metadata": {},
   "source": [
    "## Scraping boredapeyatchclub using selenium and beautiful soup & store to MongoDB"
   ]
  },
  {
   "cell_type": "markdown",
   "id": "5cc6d738",
   "metadata": {},
   "source": [
    "### Imports"
   ]
  },
  {
   "cell_type": "code",
   "execution_count": null,
   "id": "ad169949",
   "metadata": {},
   "outputs": [],
   "source": [
    "from selenium import webdriver\n",
    "from selenium.webdriver.common.keys import Keys\n",
    "from selenium.webdriver.support.ui import Select\n",
    "from selenium.webdriver.common.by import By\n",
    "from bs4 import BeautifulSoup \n",
    "import pymongo\n",
    "import requests\n",
    "import time\n",
    "import json\n",
    "import re"
   ]
  },
  {
   "cell_type": "markdown",
   "id": "a3024b99",
   "metadata": {},
   "source": [
    "### Generic Functions"
   ]
  },
  {
   "cell_type": "code",
   "execution_count": null,
   "id": "516a2414",
   "metadata": {},
   "outputs": [],
   "source": [
    "def getdriver ():\n",
    "    path=r'chromedriver.exe'\n",
    "    #driver = webdriver.Chrome(executable_path='/Users/Sripriya Srinivasan/Downloads/chromedriver_win32/chromedriver')\n",
    "    driver = webdriver.Chrome(executable_path=path)\n",
    "    driver.implicitly_wait(10)\n",
    "    driver.set_script_timeout(120)\n",
    "    driver.set_page_load_timeout(30)\n",
    "    return driver"
   ]
  },
  {
   "cell_type": "code",
   "execution_count": null,
   "id": "74ca8c88",
   "metadata": {},
   "outputs": [],
   "source": [
    "def writePage(fname,content):\n",
    "    with open(fname, \"w\", encoding=\"utf-8\") as file:\n",
    "        file.write(str(content))"
   ]
  },
  {
   "cell_type": "code",
   "execution_count": null,
   "id": "1ae9a976",
   "metadata": {},
   "outputs": [],
   "source": [
    "def read_file (name):\n",
    "    HTMLFile = open(name, \"rb\")\n",
    "    htmlfiledata = HTMLFile.read()\n",
    "    return BeautifulSoup(htmlfiledata, 'lxml')"
   ]
  },
  {
   "cell_type": "code",
   "execution_count": null,
   "id": "0f73ede8",
   "metadata": {},
   "outputs": [],
   "source": [
    "def connect_mongodb (db_name, collection_name):\n",
    "    client = pymongo.MongoClient(\"mongodb://localhost:27017\")\n",
    "    db = client[db_name]\n",
    "    collection = db[collection_name]\n",
    "    return collection"
   ]
  },
  {
   "cell_type": "code",
   "execution_count": null,
   "id": "bf77eea3",
   "metadata": {},
   "outputs": [],
   "source": [
    "def loadWebsiteData (url):\n",
    "    try:\n",
    "        headers = {'User-Agent': 'Mozilla/5.0'}\n",
    "        page = requests.get(url,headers=headers)\n",
    "        # Create a beautifulsoup object \n",
    "        return BeautifulSoup(page.text, 'lxml')\n",
    "    except :\n",
    "        print(\"Error connecting to website\")"
   ]
  },
  {
   "cell_type": "code",
   "execution_count": null,
   "id": "8423df6b",
   "metadata": {},
   "outputs": [],
   "source": [
    "def updateData (sr,new_val):\n",
    "    collection = connect_mongodb (\"pizzeria\", \"sf_pizzerias\")\n",
    "    myquery = { \"search rank\": sr }\n",
    "    newvalues = { \"$set\": new_val }\n",
    "    collection.update_many(myquery, newvalues)"
   ]
  },
  {
   "attachments": {},
   "cell_type": "markdown",
   "id": "5064e5c9",
   "metadata": {},
   "source": [
    "## Selenium and MongoDB\n",
    "### Task 1 \n",
    "Using selenium access https://opensea.io/collection/boredapeyachtclubLinks with filter to select all apes with “Solid gold” fur and sort them “Price high to low” . Click on each of the top-8 most expensive Bored Apes, and store the resulting details page to disk, “bayc_[N].htm” (replace [N] with the ape number)"
   ]
  },
  {
   "cell_type": "code",
   "execution_count": null,
   "id": "561f7b92",
   "metadata": {},
   "outputs": [],
   "source": [
    "ape_nums = []\n",
    "def q2():\n",
    "    url = \"https://opensea.io/collection/boredapeyachtclub?search[sortAscending]=false&search[stringTraits][0][name]=Fur&search[stringTraits][0][values][0]=Solid%20Gold\"\n",
    "    driver = getdriver()\n",
    "    driver.get(url)\n",
    "\n",
    "    for i in range(0,8):\n",
    "        time.sleep(2)\n",
    "        ape = driver.find_elements(\"css selector\",\"div.sc-29427738-0.sc-e7851b23-1.dVNeWL.hfa-DJE.Asset--loaded\")[i]\n",
    "        ape_num = driver.find_elements(\"css selector\", \"span.sc-29427738-0.sc-d58c749b-2.eNYnCu.heRZSz\")[i].text\n",
    "        ape_nums.append(ape_num)\n",
    "        ape.click()\n",
    "        time.sleep(5)\n",
    "        content = driver.page_source\n",
    "        fname = \"bayc_\"+str(ape_num)+\".htm\"\n",
    "        time.sleep(2)\n",
    "        writePage(fname,content)\n",
    "        driver.execute_script(\"window.history.go(-1)\")\n",
    "\n",
    "    driver.close()"
   ]
  },
  {
   "cell_type": "code",
   "execution_count": null,
   "id": "b433eb11",
   "metadata": {},
   "outputs": [],
   "source": [
    "q2()"
   ]
  },
  {
   "attachments": {},
   "cell_type": "markdown",
   "id": "0fbe5c2f",
   "metadata": {},
   "source": [
    "### Task 2\n",
    "Go through all 8 htm files downloaded in Task1 and store each ape’s name (its number) and all its attributes in a document inside a MongoDB collection called “bayc”."
   ]
  },
  {
   "cell_type": "code",
   "execution_count": null,
   "id": "accd6aa9",
   "metadata": {},
   "outputs": [],
   "source": [
    "def q3():\n",
    "    \n",
    "    bayc = connect_mongodb('bayc','bayc')\n",
    "    \n",
    "    for ape_num in ape_nums:\n",
    "        attr_list = []\n",
    "        name = \"bayc_\"+str(ape_num)+\".htm\"\n",
    "        soup = read_file(name)\n",
    "        \n",
    "        types = soup.select(\"div.Property--type\")\n",
    "        values = soup.select(\"div.Property--value\")\n",
    "        rarity = soup.select(\"div.Property--rarity\")\n",
    "        \n",
    "        for i in range(0,len(types)):\n",
    "            attr_list.append({types[i].text:{\"value\":values[i].text,\"rarity\":rarity[i].text}})\n",
    "        \n",
    "        ape_attr = {str(ape_num):attr_list}\n",
    "        bayc.insert_one(ape_attr)\n",
    "        print(ape_attr)\n",
    "        print()"
   ]
  },
  {
   "cell_type": "code",
   "execution_count": null,
   "id": "c528c0a9",
   "metadata": {},
   "outputs": [],
   "source": [
    "q3()"
   ]
  },
  {
   "cell_type": "code",
   "execution_count": null,
   "id": "13c0ced1",
   "metadata": {},
   "outputs": [],
   "source": [
    "pizzeria_docs = q5()"
   ]
  }
 ],
 "metadata": {
  "kernelspec": {
   "display_name": "Python 3 (ipykernel)",
   "language": "python",
   "name": "python3"
  },
  "language_info": {
   "codemirror_mode": {
    "name": "ipython",
    "version": 3
   },
   "file_extension": ".py",
   "mimetype": "text/x-python",
   "name": "python",
   "nbconvert_exporter": "python",
   "pygments_lexer": "ipython3",
   "version": "3.9.13"
  }
 },
 "nbformat": 4,
 "nbformat_minor": 5
}
